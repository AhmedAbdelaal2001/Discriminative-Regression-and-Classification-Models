{
 "cells": [
  {
   "cell_type": "code",
   "execution_count": 1,
   "id": "a051329f",
   "metadata": {},
   "outputs": [],
   "source": [
    "import numpy as np\n",
    "\n",
    "def add_Intercept(X):\n",
    "    new_X = np.zeros((X.shape[0], X.shape[1] + 1), dtype = X.dtype)\n",
    "    new_X[:, 0] = 1\n",
    "    new_X[:, 1:] = X\n",
    "    \n",
    "    return new_X"
   ]
  },
  {
   "cell_type": "code",
   "execution_count": 2,
   "id": "e9cb99bc",
   "metadata": {},
   "outputs": [],
   "source": [
    "class LogisticRegression:\n",
    "    \n",
    "    def __init__(self, step_size = 0.01, delta = 1e-5):\n",
    "        self.theta = None\n",
    "        self.step_size = step_size\n",
    "        self.delta = delta\n",
    "        \n",
    "    def predict(self, X):\n",
    "        if self.theta.any() == None:\n",
    "            raise Exception(\"Error. Model not trained yet.\")\n",
    "        \n",
    "        z = np.matmul(self.theta, np.transpose(X))\n",
    "        return 1 / (1 + np.exp(-1 * z))\n",
    "    \n",
    "    def fit(self, X, y):\n",
    "        self.theta = np.zeros(X.shape[1])\n",
    "        \n",
    "        while True:\n",
    "            y_pred = self.predict(X)\n",
    "            gradient = ((y_pred - y) * np.transpose(X)).mean(axis = 1)\n",
    "            print(y_pred.shape)\n",
    "            print(X.shape)\n",
    "            hessian = np.matmul((y_pred * (1 - y_pred)) * np.transpose(X), X) / X.shape[0]\n",
    "            difference = np.matmul(gradient, np.linalg.inv(hessian))\n",
    "            self.theta -= difference\n",
    "            print(f\"theta = {self.theta}\")\n",
    "            \n",
    "            if np.linalg.norm(difference) < self.delta:\n",
    "                print(\"Training Complete.\")\n",
    "                return self\n",
    "            \n",
    "        "
   ]
  },
  {
   "cell_type": "code",
   "execution_count": 3,
   "id": "f511e6ed",
   "metadata": {},
   "outputs": [
    {
     "name": "stdout",
     "output_type": "stream",
     "text": [
      "          x_1       x_2    y\n",
      "0    0.411809  1.105525  0.0\n",
      "1    1.274746  6.303314  0.0\n",
      "2    0.115488  3.264251  0.0\n",
      "3   -0.486306  0.279487  0.0\n",
      "4    0.257625  1.212389  0.0\n",
      "..        ...       ...  ...\n",
      "795  1.724697  5.181074  1.0\n",
      "796  1.139055  1.332207  1.0\n",
      "797  0.969095  4.518381  1.0\n",
      "798  1.957531  6.082968  1.0\n",
      "799  2.025334  2.729588  1.0\n",
      "\n",
      "[800 rows x 3 columns]\n"
     ]
    }
   ],
   "source": [
    "import pandas as pd\n",
    "dataset = pd.read_csv(\"training_dataset.csv\")\n",
    "print(dataset)"
   ]
  },
  {
   "cell_type": "code",
   "execution_count": 4,
   "id": "e4d5250a",
   "metadata": {},
   "outputs": [
    {
     "name": "stdout",
     "output_type": "stream",
     "text": [
      "[[1.         0.41180854 1.10552487]\n",
      " [1.         1.27474554 6.30331401]\n",
      " [1.         0.11548828 3.26425138]\n",
      " ...\n",
      " [1.         0.96909526 4.51838094]\n",
      " [1.         1.95753102 6.08296767]\n",
      " [1.         2.02533402 2.72958809]]\n",
      "[0. 0. 0. 0. 0. 0. 0. 0. 0. 0. 0. 0. 0. 0. 0. 0. 0. 0. 0. 0. 0. 0. 0. 0.\n",
      " 0. 0. 0. 0. 0. 0. 0. 0. 0. 0. 0. 0. 0. 0. 0. 0. 0. 0. 0. 0. 0. 0. 0. 0.\n",
      " 0. 0. 0. 0. 0. 0. 0. 0. 0. 0. 0. 0. 0. 0. 0. 0. 0. 0. 0. 0. 0. 0. 0. 0.\n",
      " 0. 0. 0. 0. 0. 0. 0. 0. 0. 0. 0. 0. 0. 0. 0. 0. 0. 0. 0. 0. 0. 0. 0. 0.\n",
      " 0. 0. 0. 0. 0. 0. 0. 0. 0. 0. 0. 0. 0. 0. 0. 0. 0. 0. 0. 0. 0. 0. 0. 0.\n",
      " 0. 0. 0. 0. 0. 0. 0. 0. 0. 0. 0. 0. 0. 0. 0. 0. 0. 0. 0. 0. 0. 0. 0. 0.\n",
      " 0. 0. 0. 0. 0. 0. 0. 0. 0. 0. 0. 0. 0. 0. 0. 0. 0. 0. 0. 0. 0. 0. 0. 0.\n",
      " 0. 0. 0. 0. 0. 0. 0. 0. 0. 0. 0. 0. 0. 0. 0. 0. 0. 0. 0. 0. 0. 0. 0. 0.\n",
      " 0. 0. 0. 0. 0. 0. 0. 0. 0. 0. 0. 0. 0. 0. 0. 0. 0. 0. 0. 0. 0. 0. 0. 0.\n",
      " 0. 0. 0. 0. 0. 0. 0. 0. 0. 0. 0. 0. 0. 0. 0. 0. 0. 0. 0. 0. 0. 0. 0. 0.\n",
      " 0. 0. 0. 0. 0. 0. 0. 0. 0. 0. 0. 0. 0. 0. 0. 0. 0. 0. 0. 0. 0. 0. 0. 0.\n",
      " 0. 0. 0. 0. 0. 0. 0. 0. 0. 0. 0. 0. 0. 0. 0. 0. 0. 0. 0. 0. 0. 0. 0. 0.\n",
      " 0. 0. 0. 0. 0. 0. 0. 0. 0. 0. 0. 0. 0. 0. 0. 0. 0. 0. 0. 0. 0. 0. 0. 0.\n",
      " 0. 0. 0. 0. 0. 0. 0. 0. 0. 0. 0. 0. 0. 0. 0. 0. 0. 0. 0. 0. 0. 0. 0. 0.\n",
      " 0. 0. 0. 0. 0. 0. 0. 0. 0. 0. 0. 0. 0. 0. 0. 0. 0. 0. 0. 0. 0. 0. 0. 0.\n",
      " 0. 0. 0. 0. 0. 0. 0. 0. 0. 0. 0. 0. 0. 0. 0. 0. 0. 0. 0. 0. 0. 0. 0. 0.\n",
      " 0. 0. 0. 0. 0. 0. 0. 0. 0. 0. 0. 0. 0. 0. 0. 0. 1. 1. 1. 1. 1. 1. 1. 1.\n",
      " 1. 1. 1. 1. 1. 1. 1. 1. 1. 1. 1. 1. 1. 1. 1. 1. 1. 1. 1. 1. 1. 1. 1. 1.\n",
      " 1. 1. 1. 1. 1. 1. 1. 1. 1. 1. 1. 1. 1. 1. 1. 1. 1. 1. 1. 1. 1. 1. 1. 1.\n",
      " 1. 1. 1. 1. 1. 1. 1. 1. 1. 1. 1. 1. 1. 1. 1. 1. 1. 1. 1. 1. 1. 1. 1. 1.\n",
      " 1. 1. 1. 1. 1. 1. 1. 1. 1. 1. 1. 1. 1. 1. 1. 1. 1. 1. 1. 1. 1. 1. 1. 1.\n",
      " 1. 1. 1. 1. 1. 1. 1. 1. 1. 1. 1. 1. 1. 1. 1. 1. 1. 1. 1. 1. 1. 1. 1. 1.\n",
      " 1. 1. 1. 1. 1. 1. 1. 1. 1. 1. 1. 1. 1. 1. 1. 1. 1. 1. 1. 1. 1. 1. 1. 1.\n",
      " 1. 1. 1. 1. 1. 1. 1. 1. 1. 1. 1. 1. 1. 1. 1. 1. 1. 1. 1. 1. 1. 1. 1. 1.\n",
      " 1. 1. 1. 1. 1. 1. 1. 1. 1. 1. 1. 1. 1. 1. 1. 1. 1. 1. 1. 1. 1. 1. 1. 1.\n",
      " 1. 1. 1. 1. 1. 1. 1. 1. 1. 1. 1. 1. 1. 1. 1. 1. 1. 1. 1. 1. 1. 1. 1. 1.\n",
      " 1. 1. 1. 1. 1. 1. 1. 1. 1. 1. 1. 1. 1. 1. 1. 1. 1. 1. 1. 1. 1. 1. 1. 1.\n",
      " 1. 1. 1. 1. 1. 1. 1. 1. 1. 1. 1. 1. 1. 1. 1. 1. 1. 1. 1. 1. 1. 1. 1. 1.\n",
      " 1. 1. 1. 1. 1. 1. 1. 1. 1. 1. 1. 1. 1. 1. 1. 1. 1. 1. 1. 1. 1. 1. 1. 1.\n",
      " 1. 1. 1. 1. 1. 1. 1. 1. 1. 1. 1. 1. 1. 1. 1. 1. 1. 1. 1. 1. 1. 1. 1. 1.\n",
      " 1. 1. 1. 1. 1. 1. 1. 1. 1. 1. 1. 1. 1. 1. 1. 1. 1. 1. 1. 1. 1. 1. 1. 1.\n",
      " 1. 1. 1. 1. 1. 1. 1. 1. 1. 1. 1. 1. 1. 1. 1. 1. 1. 1. 1. 1. 1. 1. 1. 1.\n",
      " 1. 1. 1. 1. 1. 1. 1. 1. 1. 1. 1. 1. 1. 1. 1. 1. 1. 1. 1. 1. 1. 1. 1. 1.\n",
      " 1. 1. 1. 1. 1. 1. 1. 1.]\n"
     ]
    }
   ],
   "source": [
    "X_train = dataset.iloc[:,:-1].values\n",
    "X_train = add_Intercept(X_train)\n",
    "y_train = dataset.iloc[:,-1].values\n",
    "\n",
    "print(X_train)\n",
    "print(y_train)"
   ]
  },
  {
   "cell_type": "code",
   "execution_count": 5,
   "id": "70c4cdd6",
   "metadata": {},
   "outputs": [
    {
     "name": "stdout",
     "output_type": "stream",
     "text": [
      "(800,)\n",
      "(800, 3)\n",
      "theta = [-1.26793901  0.96347061  0.00651882]\n",
      "(800,)\n",
      "(800, 3)\n",
      "theta = [-1.86435716  1.24798805  0.05047475]\n",
      "(800,)\n",
      "(800, 3)\n",
      "theta = [-2.18133361  1.11955996  0.15388471]\n",
      "(800,)\n",
      "(800, 3)\n",
      "theta = [-2.35903433  1.05025336  0.2244029 ]\n",
      "(800,)\n",
      "(800, 3)\n",
      "theta = [-2.40601719  1.0350812   0.24374647]\n",
      "(800,)\n",
      "(800, 3)\n",
      "theta = [-2.40859255  1.03437497  0.24480411]\n",
      "(800,)\n",
      "(800, 3)\n",
      "theta = [-2.40859977  1.03437317  0.24480705]\n",
      "Training Complete.\n"
     ]
    },
    {
     "data": {
      "text/plain": [
       "<__main__.LogisticRegression at 0x246b4789fa0>"
      ]
     },
     "execution_count": 5,
     "metadata": {},
     "output_type": "execute_result"
    }
   ],
   "source": [
    "logReg = LogisticRegression()\n",
    "logReg.fit(X_train, y_train)"
   ]
  },
  {
   "cell_type": "code",
   "execution_count": 6,
   "id": "29e041f2",
   "metadata": {},
   "outputs": [
    {
     "name": "stdout",
     "output_type": "stream",
     "text": [
      "[[-0.3226045   1.44016009]\n",
      " [ 1.45213116  2.26274285]\n",
      " [ 0.85117646  0.87461786]\n",
      " [-0.42506633  0.49448067]\n",
      " [ 1.07977541  4.15222455]\n",
      " [ 0.06839514  3.60693507]\n",
      " [ 3.86229163 25.99079097]\n",
      " [ 0.63078087  0.69715553]\n",
      " [-0.64119999  0.07896407]\n",
      " [ 0.53135242  4.50417546]\n",
      " [ 2.19032426  6.54381687]\n",
      " [-0.38465533  0.42296288]\n",
      " [ 0.21679465  5.01812571]\n",
      " [ 0.4846679   1.36387124]\n",
      " [ 2.39608694 10.87208984]\n",
      " [-0.51197311  0.86848666]\n",
      " [ 0.61284557  1.92105571]\n",
      " [ 1.20247     1.39818937]\n",
      " [ 2.48716225  4.41633191]\n",
      " [ 0.27191322  2.48805513]\n",
      " [ 0.46650294  3.4560205 ]\n",
      " [-0.77155423  0.70674626]\n",
      " [ 0.74548073  0.78677636]\n",
      " [ 1.34588118  1.84466679]\n",
      " [ 0.03825659  1.37679837]\n",
      " [ 0.97144296  2.33499786]\n",
      " [ 0.73578508  5.36219354]\n",
      " [-0.98294485  0.60613226]\n",
      " [-1.06748414  0.51752952]\n",
      " [ 0.16444179  1.19318199]\n",
      " [-0.7898848   1.0424866 ]\n",
      " [-0.14329976  0.56735751]\n",
      " [-0.82024735  0.49960062]\n",
      " [ 0.66933574  2.03132583]\n",
      " [ 2.18580501  4.79542536]\n",
      " [ 1.24524603  2.22477477]\n",
      " [-0.38608243  1.17125926]\n",
      " [ 1.97265966  0.94942542]\n",
      " [ 0.11536834  0.41934752]\n",
      " [-0.62494875  0.36937505]\n",
      " [ 0.73560961  2.00940088]\n",
      " [ 1.79850535  1.03246785]\n",
      " [-0.14833684  0.46835912]\n",
      " [-0.09403357  1.07422495]\n",
      " [ 1.95126591 11.27001531]\n",
      " [-0.76667657  0.48703998]\n",
      " [ 0.53937355  0.91782734]\n",
      " [-0.22698133  1.18536598]\n",
      " [-0.39058305  1.03621699]\n",
      " [ 0.96225877  1.0804548 ]\n",
      " [ 2.87853267 32.40471731]\n",
      " [ 0.63533685  1.31647006]\n",
      " [ 2.44918624 32.26914179]\n",
      " [ 1.55800428  1.41965492]\n",
      " [ 1.58703176 10.27789785]\n",
      " [ 2.92302652  6.32084127]\n",
      " [ 1.16179168  8.79339693]\n",
      " [ 1.01926912  7.27956453]\n",
      " [ 1.64074981  5.30590931]\n",
      " [ 2.1625751  12.70579893]\n",
      " [ 2.20355391  6.93546526]\n",
      " [ 1.80281512  9.08987516]\n",
      " [ 0.38185288  2.08733116]\n",
      " [ 2.73898669  6.43298261]\n",
      " [ 2.33229757 13.46785592]\n",
      " [ 2.1515753   3.30175484]\n",
      " [ 2.08755952  7.46399068]\n",
      " [ 2.42536537 26.4483108 ]\n",
      " [ 1.22952296  2.63268864]\n",
      " [ 2.29617283 12.01655075]\n",
      " [ 3.30064721 11.28460368]\n",
      " [ 0.98606951  2.43854265]\n",
      " [ 1.71111559  4.78419937]\n",
      " [ 1.43791364  2.54852746]\n",
      " [ 2.06546113  6.82796588]\n",
      " [ 2.6042525  18.17196626]\n",
      " [ 2.56193154  2.67573402]\n",
      " [ 1.67306091  2.28230367]\n",
      " [ 3.07760672 13.17400532]\n",
      " [ 0.80343565  1.95356398]\n",
      " [ 0.29409223  1.8304515 ]\n",
      " [ 4.17743477 28.43916382]\n",
      " [ 2.20240356 14.48263971]\n",
      " [ 2.75638736  9.03904178]\n",
      " [ 1.59509206  3.23851668]\n",
      " [ 2.31360137  8.12523688]\n",
      " [ 2.25188961  6.10723549]\n",
      " [ 1.74848706  4.97610269]\n",
      " [ 1.94191761  6.17617417]\n",
      " [ 3.23970139 36.2488673 ]\n",
      " [ 0.77654359  1.719952  ]\n",
      " [ 1.53339444  7.11126102]\n",
      " [ 1.44950114  7.08491125]\n",
      " [ 1.62476639  8.74420153]\n",
      " [ 1.96366438  8.17721712]\n",
      " [ 1.79561844  2.61247159]\n",
      " [ 1.95348024  1.6333998 ]\n",
      " [ 1.86352418  5.88989936]\n",
      " [ 2.91729395 22.77683958]\n",
      " [ 1.31972857  2.84750546]]\n",
      "[0. 0. 0. 0. 0. 0. 0. 0. 0. 0. 0. 0. 0. 0. 0. 0. 0. 0. 0. 0. 0. 0. 0. 0.\n",
      " 0. 0. 0. 0. 0. 0. 0. 0. 0. 0. 0. 0. 0. 0. 0. 0. 0. 0. 0. 0. 0. 0. 0. 0.\n",
      " 0. 0. 1. 1. 1. 1. 1. 1. 1. 1. 1. 1. 1. 1. 1. 1. 1. 1. 1. 1. 1. 1. 1. 1.\n",
      " 1. 1. 1. 1. 1. 1. 1. 1. 1. 1. 1. 1. 1. 1. 1. 1. 1. 1. 1. 1. 1. 1. 1. 1.\n",
      " 1. 1. 1. 1.]\n"
     ]
    }
   ],
   "source": [
    "dataset = pd.read_csv(\"validation_dataset.csv\")\n",
    "X_valid = dataset.iloc[:,:-1].values\n",
    "y_valid = dataset.iloc[:, -1].values\n",
    "\n",
    "print(X_valid)\n",
    "print(y_valid)"
   ]
  },
  {
   "cell_type": "code",
   "execution_count": 7,
   "id": "69feee9e",
   "metadata": {},
   "outputs": [
    {
     "data": {
      "text/plain": [
       "<Figure size 432x288 with 0 Axes>"
      ]
     },
     "metadata": {},
     "output_type": "display_data"
    },
    {
     "data": {
      "image/png": "[encoded data removed]",
      "text/plain": [
       "<Figure size 432x288 with 1 Axes>"
      ]
     },
     "metadata": {
      "needs_background": "light"
     },
     "output_type": "display_data"
    }
   ],
   "source": [
    "import matplotlib.pyplot as plt\n",
    "\n",
    "plt.figure()\n",
    "plt.figure()\n",
    "plt.plot(X_valid[y_valid == 1, 0], X_valid[y_valid == 1, 1], 'bx')\n",
    "plt.plot(X_valid[y_valid == 0, 0], X_valid[y_valid == 0, 1], 'go')\n",
    "\n",
    "x = np.arange(min(X_valid[:, 0]), max(X_valid[:, 0]), 0.01)\n",
    "theta = logReg.theta\n",
    "y = -1 * (theta[0] / theta[2] + theta[1] / theta[2] * x)\n",
    "\n",
    "plt.plot(x,y, c = 'red')\n",
    "plt.show()"
   ]
  },
  {
   "cell_type": "code",
   "execution_count": 8,
   "id": "c7680ea3",
   "metadata": {},
   "outputs": [
    {
     "name": "stdout",
     "output_type": "stream",
     "text": [
      "Accuracy = 83.0%\n"
     ]
    }
   ],
   "source": [
    "y_pred = (logReg.predict(add_Intercept(X_valid)) > 0.5).astype(np.int32)\n",
    "count = 0\n",
    "for i in range(len(y_valid)):\n",
    "    if y_pred[i] == y_valid[i]:\n",
    "        count += 1\n",
    "\n",
    "print(f\"Accuracy = {count / len(y_pred) * 100}%\")"
   ]
  },
  {
   "cell_type": "code",
   "execution_count": 9,
   "id": "c2e7c3ec",
   "metadata": {},
   "outputs": [],
   "source": [
    "np.savetxt(\"parameters.txt\", theta, delimiter = \", \")"
   ]
  }
 ],
 "metadata": {
  "kernelspec": {
   "display_name": "Python 3 (ipykernel)",
   "language": "python",
   "name": "python3"
  },
  "language_info": {
   "codemirror_mode": {
    "name": "ipython",
    "version": 3
   },
   "file_extension": ".py",
   "mimetype": "text/x-python",
   "name": "python",
   "nbconvert_exporter": "python",
   "pygments_lexer": "ipython3",
   "version": "3.9.12"
  }
 },
 "nbformat": 4,
 "nbformat_minor": 5
}
